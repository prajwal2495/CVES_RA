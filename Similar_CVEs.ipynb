{
 "cells": [
  {
   "cell_type": "code",
   "execution_count": 14,
   "metadata": {},
   "outputs": [],
   "source": [
    "import pandas as pd\n",
    "import numpy as np"
   ]
  },
  {
   "cell_type": "code",
   "execution_count": 15,
   "metadata": {},
   "outputs": [],
   "source": [
    "PATH_TO_FILE = './Data/corpus2.json'\n",
    "data = pd.read_json(PATH_TO_FILE)"
   ]
  },
  {
   "cell_type": "code",
   "execution_count": 16,
   "metadata": {},
   "outputs": [
    {
     "data": {
      "text/html": [
       "<div>\n",
       "<style scoped>\n",
       "    .dataframe tbody tr th:only-of-type {\n",
       "        vertical-align: middle;\n",
       "    }\n",
       "\n",
       "    .dataframe tbody tr th {\n",
       "        vertical-align: top;\n",
       "    }\n",
       "\n",
       "    .dataframe thead th {\n",
       "        text-align: right;\n",
       "    }\n",
       "</style>\n",
       "<table border=\"1\" class=\"dataframe\">\n",
       "  <thead>\n",
       "    <tr style=\"text-align: right;\">\n",
       "      <th></th>\n",
       "      <th>id</th>\n",
       "      <th>cve</th>\n",
       "      <th>project_name</th>\n",
       "      <th>description</th>\n",
       "      <th>mistakes</th>\n",
       "      <th>tag_list</th>\n",
       "    </tr>\n",
       "  </thead>\n",
       "  <tbody>\n",
       "    <tr>\n",
       "      <th>0</th>\n",
       "      <td>1037</td>\n",
       "      <td>CVE-2014-7948</td>\n",
       "      <td>chromium</td>\n",
       "      <td>Google Chrome caches pages despite having an S...</td>\n",
       "      <td>I think that the vulenrability is interesting ...</td>\n",
       "      <td>[{'id': 8, 'tag': 'bounty'}, {'id': 95, 'tag':...</td>\n",
       "    </tr>\n",
       "    <tr>\n",
       "      <th>1</th>\n",
       "      <td>1158</td>\n",
       "      <td>CVE-2015-6757</td>\n",
       "      <td>chromium</td>\n",
       "      <td>Trying to access data in ServiceWorker after i...</td>\n",
       "      <td>The mistake made here was a basic C coding mis...</td>\n",
       "      <td>[{'id': 5, 'tag': 'lifetime-1y2y'}, {'id': 8, ...</td>\n",
       "    </tr>\n",
       "    <tr>\n",
       "      <th>2</th>\n",
       "      <td>1489</td>\n",
       "      <td>CVE-2017-5125</td>\n",
       "      <td>chromium</td>\n",
       "      <td>Embargoed. Heap overflow in Skia.\\n</td>\n",
       "      <td>None</td>\n",
       "      <td>[{'id': 14, 'tag': 'cwe-119'}, {'id': 357, 'ta...</td>\n",
       "    </tr>\n",
       "    <tr>\n",
       "      <th>3</th>\n",
       "      <td>184</td>\n",
       "      <td>CVE-2010-4488</td>\n",
       "      <td>chromium</td>\n",
       "      <td>This bug involves an unhandled case in which t...</td>\n",
       "      <td>This could be a coding or design error, there ...</td>\n",
       "      <td>[{'id': 3, 'tag': 'lifetime-90d180d'}, {'id': ...</td>\n",
       "    </tr>\n",
       "    <tr>\n",
       "      <th>4</th>\n",
       "      <td>1269</td>\n",
       "      <td>CVE-2016-1682</td>\n",
       "      <td>chromium</td>\n",
       "      <td>Checks to verify the content security policy (...</td>\n",
       "      <td>It seems as though the developer just didn't t...</td>\n",
       "      <td>[{'id': 1, 'tag': 'lifetime-30d'}, {'id': 8, '...</td>\n",
       "    </tr>\n",
       "  </tbody>\n",
       "</table>\n",
       "</div>"
      ],
      "text/plain": [
       "     id            cve project_name  \\\n",
       "0  1037  CVE-2014-7948     chromium   \n",
       "1  1158  CVE-2015-6757     chromium   \n",
       "2  1489  CVE-2017-5125     chromium   \n",
       "3   184  CVE-2010-4488     chromium   \n",
       "4  1269  CVE-2016-1682     chromium   \n",
       "\n",
       "                                         description  \\\n",
       "0  Google Chrome caches pages despite having an S...   \n",
       "1  Trying to access data in ServiceWorker after i...   \n",
       "2                Embargoed. Heap overflow in Skia.\\n   \n",
       "3  This bug involves an unhandled case in which t...   \n",
       "4  Checks to verify the content security policy (...   \n",
       "\n",
       "                                            mistakes  \\\n",
       "0  I think that the vulenrability is interesting ...   \n",
       "1  The mistake made here was a basic C coding mis...   \n",
       "2                                               None   \n",
       "3  This could be a coding or design error, there ...   \n",
       "4  It seems as though the developer just didn't t...   \n",
       "\n",
       "                                            tag_list  \n",
       "0  [{'id': 8, 'tag': 'bounty'}, {'id': 95, 'tag':...  \n",
       "1  [{'id': 5, 'tag': 'lifetime-1y2y'}, {'id': 8, ...  \n",
       "2  [{'id': 14, 'tag': 'cwe-119'}, {'id': 357, 'ta...  \n",
       "3  [{'id': 3, 'tag': 'lifetime-90d180d'}, {'id': ...  \n",
       "4  [{'id': 1, 'tag': 'lifetime-30d'}, {'id': 8, '...  "
      ]
     },
     "execution_count": 16,
     "metadata": {},
     "output_type": "execute_result"
    }
   ],
   "source": [
    "data.head(5)"
   ]
  },
  {
   "cell_type": "code",
   "execution_count": 17,
   "metadata": {},
   "outputs": [],
   "source": [
    "CVE_description_mistake = data[['cve','description','mistakes']].copy()"
   ]
  },
  {
   "cell_type": "code",
   "execution_count": 18,
   "metadata": {},
   "outputs": [
    {
     "data": {
      "text/html": [
       "<div>\n",
       "<style scoped>\n",
       "    .dataframe tbody tr th:only-of-type {\n",
       "        vertical-align: middle;\n",
       "    }\n",
       "\n",
       "    .dataframe tbody tr th {\n",
       "        vertical-align: top;\n",
       "    }\n",
       "\n",
       "    .dataframe thead th {\n",
       "        text-align: right;\n",
       "    }\n",
       "</style>\n",
       "<table border=\"1\" class=\"dataframe\">\n",
       "  <thead>\n",
       "    <tr style=\"text-align: right;\">\n",
       "      <th></th>\n",
       "      <th>cve</th>\n",
       "      <th>description</th>\n",
       "      <th>mistakes</th>\n",
       "    </tr>\n",
       "  </thead>\n",
       "  <tbody>\n",
       "    <tr>\n",
       "      <th>0</th>\n",
       "      <td>CVE-2014-7948</td>\n",
       "      <td>Google Chrome caches pages despite having an S...</td>\n",
       "      <td>I think that the vulenrability is interesting ...</td>\n",
       "    </tr>\n",
       "    <tr>\n",
       "      <th>1</th>\n",
       "      <td>CVE-2015-6757</td>\n",
       "      <td>Trying to access data in ServiceWorker after i...</td>\n",
       "      <td>The mistake made here was a basic C coding mis...</td>\n",
       "    </tr>\n",
       "    <tr>\n",
       "      <th>2</th>\n",
       "      <td>CVE-2017-5125</td>\n",
       "      <td>Embargoed. Heap overflow in Skia.\\n</td>\n",
       "      <td>None</td>\n",
       "    </tr>\n",
       "    <tr>\n",
       "      <th>3</th>\n",
       "      <td>CVE-2010-4488</td>\n",
       "      <td>This bug involves an unhandled case in which t...</td>\n",
       "      <td>This could be a coding or design error, there ...</td>\n",
       "    </tr>\n",
       "    <tr>\n",
       "      <th>4</th>\n",
       "      <td>CVE-2016-1682</td>\n",
       "      <td>Checks to verify the content security policy (...</td>\n",
       "      <td>It seems as though the developer just didn't t...</td>\n",
       "    </tr>\n",
       "    <tr>\n",
       "      <th>...</th>\n",
       "      <td>...</td>\n",
       "      <td>...</td>\n",
       "      <td>...</td>\n",
       "    </tr>\n",
       "    <tr>\n",
       "      <th>721</th>\n",
       "      <td>CVE-2014-1715</td>\n",
       "      <td>Path traversal vulnerability that can lead to ...</td>\n",
       "      <td>Ultimately, this vunerability was the direct c...</td>\n",
       "    </tr>\n",
       "    <tr>\n",
       "      <th>722</th>\n",
       "      <td>CVE-2014-0116</td>\n",
       "      <td>A fix applied in a previous update didn't acco...</td>\n",
       "      <td>The correct sanitization regex pattern was pre...</td>\n",
       "    </tr>\n",
       "    <tr>\n",
       "      <th>723</th>\n",
       "      <td>CVE-2017-5055</td>\n",
       "      <td>Use after free in printing. When the cross pro...</td>\n",
       "      <td>PrintPreviewDone() got called multiple times a...</td>\n",
       "    </tr>\n",
       "    <tr>\n",
       "      <th>724</th>\n",
       "      <td>CVE-2010-0656</td>\n",
       "      <td>Webkit, if given a false directory in the URL ...</td>\n",
       "      <td>The origin of the bug is not really a commit o...</td>\n",
       "    </tr>\n",
       "    <tr>\n",
       "      <th>725</th>\n",
       "      <td>CVE-2017-5113</td>\n",
       "      <td>Embargoed. Heap buffer overflow in Skia.\\n</td>\n",
       "      <td>None</td>\n",
       "    </tr>\n",
       "  </tbody>\n",
       "</table>\n",
       "<p>726 rows × 3 columns</p>\n",
       "</div>"
      ],
      "text/plain": [
       "               cve                                        description  \\\n",
       "0    CVE-2014-7948  Google Chrome caches pages despite having an S...   \n",
       "1    CVE-2015-6757  Trying to access data in ServiceWorker after i...   \n",
       "2    CVE-2017-5125                Embargoed. Heap overflow in Skia.\\n   \n",
       "3    CVE-2010-4488  This bug involves an unhandled case in which t...   \n",
       "4    CVE-2016-1682  Checks to verify the content security policy (...   \n",
       "..             ...                                                ...   \n",
       "721  CVE-2014-1715  Path traversal vulnerability that can lead to ...   \n",
       "722  CVE-2014-0116  A fix applied in a previous update didn't acco...   \n",
       "723  CVE-2017-5055  Use after free in printing. When the cross pro...   \n",
       "724  CVE-2010-0656  Webkit, if given a false directory in the URL ...   \n",
       "725  CVE-2017-5113         Embargoed. Heap buffer overflow in Skia.\\n   \n",
       "\n",
       "                                              mistakes  \n",
       "0    I think that the vulenrability is interesting ...  \n",
       "1    The mistake made here was a basic C coding mis...  \n",
       "2                                                 None  \n",
       "3    This could be a coding or design error, there ...  \n",
       "4    It seems as though the developer just didn't t...  \n",
       "..                                                 ...  \n",
       "721  Ultimately, this vunerability was the direct c...  \n",
       "722  The correct sanitization regex pattern was pre...  \n",
       "723  PrintPreviewDone() got called multiple times a...  \n",
       "724  The origin of the bug is not really a commit o...  \n",
       "725                                               None  \n",
       "\n",
       "[726 rows x 3 columns]"
      ]
     },
     "execution_count": 18,
     "metadata": {},
     "output_type": "execute_result"
    }
   ],
   "source": [
    "CVE_description_mistake"
   ]
  },
  {
   "cell_type": "code",
   "execution_count": 19,
   "metadata": {},
   "outputs": [],
   "source": [
    "from fuzzywuzzy import process,fuzz"
   ]
  },
  {
   "cell_type": "code",
   "execution_count": 20,
   "metadata": {},
   "outputs": [
    {
     "name": "stdout",
     "output_type": "stream",
     "text": [
      "number of unique values in cve: 725\n",
      "number of unique values in description: 707\n",
      "number of unique values in mistakes: 569\n"
     ]
    }
   ],
   "source": [
    "for col in CVE_description_mistake[['cve','description','mistakes']]:\n",
    "    CVE_description_mistake[col] = CVE_description_mistake[col].str.strip()\n",
    "    print(\"number of unique values in \" + str(col) +\": \"+ str(CVE_description_mistake[col].nunique()))"
   ]
  },
  {
   "cell_type": "code",
   "execution_count": 21,
   "metadata": {},
   "outputs": [
    {
     "data": {
      "text/plain": [
       "['CVE-2002-0392',\n",
       " 'CVE-2002-0661',\n",
       " 'CVE-2002-0840',\n",
       " 'CVE-2002-1156',\n",
       " 'CVE-2002-1593']"
      ]
     },
     "execution_count": 21,
     "metadata": {},
     "output_type": "execute_result"
    }
   ],
   "source": [
    "unique_cves = CVE_description_mistake['cve'].unique().tolist()\n",
    "sorted(unique_cves)[:5]"
   ]
  },
  {
   "cell_type": "markdown",
   "metadata": {},
   "source": [
    "### This below process des not mean anything as the Fuzyy token sort ratio scorer tokenizes the strings and cleans them by returning these strings to lower cases, removing punctuations, and then sorting them alphabetically. After that, it finds the Levenshtein distance and returns the similarity percentage."
   ]
  },
  {
   "cell_type": "code",
   "execution_count": 22,
   "metadata": {},
   "outputs": [
    {
     "data": {
      "text/plain": [
       "[('CVE-2002-0392', 100),\n",
       " ('CVE-2004-0942', 85),\n",
       " ('CVE-2012-0031', 77),\n",
       " ('CVE-2013-2900', 77),\n",
       " ('CVE-2004-0809', 77)]"
      ]
     },
     "execution_count": 22,
     "metadata": {},
     "output_type": "execute_result"
    }
   ],
   "source": [
    "process.extract('CVE-2002-0392', unique_cves, scorer=fuzz.token_sort_ratio)"
   ]
  },
  {
   "cell_type": "code",
   "execution_count": 23,
   "metadata": {},
   "outputs": [
    {
     "data": {
      "text/plain": [
       "[('CVE-2010-3411', 100),\n",
       " ('CVE-2010-3111', 92),\n",
       " ('CVE-2010-3415', 92),\n",
       " ('CVE-2010-3413', 92),\n",
       " ('CVE-2010-3112', 92)]"
      ]
     },
     "execution_count": 23,
     "metadata": {},
     "output_type": "execute_result"
    }
   ],
   "source": [
    "process.extract('CVE-2010-3411', unique_cves, scorer=fuzz.token_sort_ratio)"
   ]
  },
  {
   "cell_type": "code",
   "execution_count": 24,
   "metadata": {},
   "outputs": [
    {
     "data": {
      "text/plain": [
       "['(Linux Only) A malicious user could remotely construct a relatively long string.\\nUpon creating the string, the user could then use it with the javascript alert \\nfunction, or use it with an input that could be displayed in an alert. As a result, \\nthe display server could crash and lock up the open chrome windows on the target device, \\nrequiring a reboot (Denial of Service).',\n",
       " 'A CGI (Common Gateway Interface) is a protocol used by web servers that runs command-line interface scripts in response to client requests. Apache HTTP Server has a module \"mod_cgid\" which is responsible for running CGI scripts.\\nCVE-2014-0231 was a vulnerability in Apache HTTP Server\\'s mod_cgid module where users could create a denial of service attack by causing the process which ran these scripts to hang indefinitely. mod_cgid did not have any timeout feature. If an attacker found a request that caused one of a server\\'s CGI scripts hosted in mod_cgid to halt, this would deny service to other users of the server\\'s CGI scripts.',\n",
       " 'A Document Object Model wrapper could be returned with an incorrect scope, allowing the remote attacker to bypass the Same Origin Policy. This policy limits scripts from a webpage to only access information on a second webpage with the same protocol, domain, and host.',\n",
       " \"A Heap Buffer Overflow (out-of-bounds write) vulnerability was found in OpenJPEG, which is used in PDFium in Google Chrome. This would allow a remote attacker to arbitrarily execute code on a user's machine. After inspecting the code, it seemed that the vulnerability was due to casting arguments for method to a 32 byte integer, which could possibly cause the integer to exceed the boundaries. OpenJPEG is an open source library used to display JPEG images; this was a dependency in PDFium, which is an open source library which Google maintains. This is used to display PDF files through Google Chrome.\\nThis bug in OpenJPEG was brought forth through a developer of the open source library attempting to close another Heap Buffer Overflow bug. I think that this vulnerability could have been stopped in its tracks if there had been unit tests for this section of code, as there are no unit tests in OpenJPEG.\",\n",
       " \"A Heap Buffer Overflow vulnerability was found in Google Chrome's implementation of\\nMedia Capture from DOM elements. DOM (Document Object Model) elements is an object that\\nincludes how the HTML/XHTML/XML is formatted.  Media Capture from DOM elements is essentially just\\ncapturing more information about the users actions on a video, image, etc. which is streamed\\nback to the application and can then be used for various things. When Google Chrome\\nadded this feature they had a bug where if the HTML media element's given size parameters\\nwere wrong it would not check them, and would just attempt to use them, resulting in the\\nHeap Buffer Overflow.\",\n",
       " 'A JavaScript script creates an input element inside a form element and adds them to the DOM (web page),\\nthen forces a style recalculation and removes the input from the form element. Due to the\\nsynchronous order of execution that should have been asynchronous, it would cause a use-after-free\\nerror. This occurs becausehere a memory address that has been freed is attempted to be accessed, because the style\\nrecalculation and element removal are executed in the wrong order.\\n\\nThis vulernability exists in the third party WebKit source.',\n",
       " 'A PDF file containing a malformed JP2 image can cause an out-of-bounds read \\nin the openjpeg library. Remote attackers are able to cause a denial of servie \\n(out-of-bounds read) via a created PDF document. The error occures when the \\n{PDF is being parsed and an JP2 image is found and rendered.',\n",
       " 'A Use-after-free vulnerability in the Speech subsystem allows remote attackers \\nto execute arbitrary code via a crafted document. The use-after-free vulnerability\\noccurs when a pointer is freed and then accessed again, thereby allowing arbitrary\\ncode execution. No one was able to craft an exploit for this vulnerability but the \\nerror can be replicated by initializing a speech recognition object, closing the \\nwindow with window.close() and then calling the speech recognition object again, \\ncausing the browser to access freed memory.\\nThe main issue was caused when the system removed a managed pointer method with\\nautomatic garbage collection and failed to set the pointer to null after it was freed.',\n",
       " \"A bug in Blink, Chrome's rendering engine, allowed malicious actors to read cross domain URLs from a browser after a redirect through an iFrame\",\n",
       " 'A bug was found in chrome which did not retrict javascript from copying to the\\nclipboard from any context ( anywhere you can run JavaScript). The person who found the vulnerability,\\nwrote an exploit that would hijack the clipboard and constantly set the clipboard to\\na malicious url.\\n\\nHere\\'s how his exploit works. First, you start off by creating an invisible iframe element\\nin the background and turning the design-mode/content-editable on. This gives the iframe\\naccess to the \"execCommand\" in JS, which has a \"copy\" function which copies the current\\nselected content to the clipboard. The attacker can take advantage of this by adding and setting\\na text element inside the iframe to a malicious url and then calling the focus(), select()\\nand finally the execCommand()\\'s copy function to copy to the clipboard. In his exploit,\\nhe used setTimeout() to make an infinite recursive call on a function which would copy\\nhis malicious url to the clipboard every 500ms.\\n\\nHere\\'s a link to the custom exploit: https://bugs.chromium.org/p/chromium/issues/attachmentText?aid=118061']"
      ]
     },
     "execution_count": 24,
     "metadata": {},
     "output_type": "execute_result"
    }
   ],
   "source": [
    "unique_desc = CVE_description_mistake['description'].unique().tolist()\n",
    "sorted(unique_desc)[:10]"
   ]
  },
  {
   "cell_type": "code",
   "execution_count": 25,
   "metadata": {},
   "outputs": [
    {
     "data": {
      "text/plain": [
       "[('(Linux Only) A malicious user could remotely construct a relatively long string.\\nUpon creating the string, the user could then use it with the javascript alert \\nfunction, or use it with an input that could be displayed in an alert. As a result, \\nthe display server could crash and lock up the open chrome windows on the target device, \\nrequiring a reboot (Denial of Service).',\n",
       "  100),\n",
       " ('A remote attacker could write malicious input to a data stream that would cause\\nthe server to crash. Once the server is crashed, subsequently valid requests will continue to crash\\nthe server.',\n",
       "  47),\n",
       " (\"The multipart stream area of the system doesn't check the length of a boundary string. This\\nmeans that a user can potentially use an extremely long boundary string to cause a denial of\\nservice attack.\",\n",
       "  45),\n",
       " ('When displaying a type of graphic known as an SVG, a value of infinity could\\nbe used as one of the attributes, causing a write to an invalid memory location.\\nThis would result in a segmentation fault.',\n",
       "  41),\n",
       " (\"Use after Free vulnerability in the 'Indent' command of the rendering engine 'Blink'. The vulnerability could be used to cause user-assisted denial of service attacks.\",\n",
       "  40)]"
      ]
     },
     "execution_count": 25,
     "metadata": {},
     "output_type": "execute_result"
    }
   ],
   "source": [
    "process.extract('(Linux Only) A malicious user could remotely construct a relatively long string.\\nUpon creating the string, the user could then use it with the javascript alert \\nfunction, or use it with an input that could be displayed in an alert. As a result, \\nthe display server could crash and lock up the open chrome windows on the target device, \\nrequiring a reboot (Denial of Service).', unique_desc, scorer=fuzz.token_sort_ratio)"
   ]
  },
  {
   "cell_type": "markdown",
   "metadata": {},
   "source": [
    "## Similarity score on description column"
   ]
  },
  {
   "cell_type": "code",
   "execution_count": null,
   "metadata": {},
   "outputs": [],
   "source": [
    "#Create tuples of description, matched description, and the score\n",
    "score_sort = [(x,) + i\n",
    "             for x in unique_desc \n",
    "             for i in process.extract(x, unique_desc, scorer=fuzz.token_sort_ratio)]\n",
    "#Create a dataframe from the tuples\n",
    "similarity_sort = pd.DataFrame(score_sort, columns=['desc_sort','match_sort','score_sort'])\n",
    "similarity_sort.head()\n"
   ]
  },
  {
   "cell_type": "code",
   "execution_count": null,
   "metadata": {},
   "outputs": [],
   "source": [
    "print(len(similarity_sort))"
   ]
  },
  {
   "cell_type": "code",
   "execution_count": null,
   "metadata": {},
   "outputs": [],
   "source": [
    "similarity_sort['sorted_desc_sort'] = np.maximum(similarity_sort['desc_sort'], similarity_sort['match_sort'])\n",
    "similarity_sort.head()"
   ]
  },
  {
   "cell_type": "code",
   "execution_count": null,
   "metadata": {},
   "outputs": [],
   "source": [
    "high_score_sort = similarity_sort[(similarity_sort['score_sort'] >= 75) &\n",
    "                (similarity_sort['desc_sort'] !=  similarity_sort['match_sort']) &\n",
    "                (similarity_sort['sorted_desc_sort'] != similarity_sort['match_sort'])]\n",
    "high_score_sort = high_score_sort.drop('sorted_desc_sort',axis=1).copy()"
   ]
  },
  {
   "cell_type": "code",
   "execution_count": null,
   "metadata": {},
   "outputs": [],
   "source": [
    "high_score_sort"
   ]
  },
  {
   "cell_type": "code",
   "execution_count": null,
   "metadata": {},
   "outputs": [],
   "source": [
    "high_score_sort.groupby(['desc_sort','score_sort']).agg(\n",
    "                        {'match_sort': ', '.join}).sort_values(\n",
    "                        ['score_sort'], ascending=False)"
   ]
  },
  {
   "cell_type": "markdown",
   "metadata": {},
   "source": [
    "## Similarity score on the mistakes column"
   ]
  },
  {
   "cell_type": "code",
   "execution_count": null,
   "metadata": {},
   "outputs": [],
   "source": [
    "unique_mistakes = CVE_description_mistake['mistakes'].unique().tolist()\n",
    "unique_mistakes = ['None' if mis is None else mis for mis in unique_mistakes]\n",
    "sorted(unique_mistakes)[:100]"
   ]
  },
  {
   "cell_type": "code",
   "execution_count": null,
   "metadata": {},
   "outputs": [],
   "source": [
    "#Create tuples of mistakes, matched mistakes, and the score\n",
    "score_sort = [(x,) + i\n",
    "             for x in unique_mistakes \n",
    "             for i in process.extract(x, unique_mistakes, scorer=fuzz.token_sort_ratio)]\n",
    "#Create a dataframe from the tuples\n",
    "similarity_sort_mistakes = pd.DataFrame(score_sort, columns=['mistakes_sort','match_sort','score_sort'])\n",
    "similarity_sort_mistakes.head()"
   ]
  },
  {
   "cell_type": "code",
   "execution_count": null,
   "metadata": {},
   "outputs": [],
   "source": [
    "print(len(similarity_sort_mistakes))"
   ]
  },
  {
   "cell_type": "code",
   "execution_count": null,
   "metadata": {},
   "outputs": [],
   "source": [
    "similarity_sort_mistakes['sorted_mistakes_sort'] = np.maximum(similarity_sort_mistakes['mistakes_sort'], similarity_sort_mistakes['match_sort'])\n",
    "similarity_sort_mistakes.head()"
   ]
  },
  {
   "cell_type": "code",
   "execution_count": null,
   "metadata": {},
   "outputs": [],
   "source": [
    "high_score_sort = similarity_sort_mistakes[(similarity_sort_mistakes['score_sort'] >= 15) &\n",
    "                (similarity_sort_mistakes['mistakes_sort'] !=  similarity_sort_mistakes['match_sort']) &\n",
    "                (similarity_sort_mistakes['sorted_mistakes_sort'] != similarity_sort_mistakes['match_sort'])]\n",
    "high_score_sort = high_score_sort.drop('sorted_mistakes_sort',axis=1).copy()"
   ]
  },
  {
   "cell_type": "code",
   "execution_count": null,
   "metadata": {},
   "outputs": [],
   "source": [
    "high_score_sort"
   ]
  },
  {
   "cell_type": "code",
   "execution_count": null,
   "metadata": {},
   "outputs": [],
   "source": [
    "high_score_sort.groupby(['mistakes_sort','score_sort']).agg(\n",
    "                        {'match_sort': ', '.join}).sort_values(\n",
    "                        ['score_sort'], ascending=False)"
   ]
  },
  {
   "cell_type": "markdown",
   "metadata": {},
   "source": [
    "## Similarity score on the mistakes and description column combined"
   ]
  },
  {
   "cell_type": "code",
   "execution_count": null,
   "metadata": {},
   "outputs": [],
   "source": [
    "CVE_description_mistake['desc_mis'] = CVE_description_mistake['description'] + CVE_description_mistake['mistakes']"
   ]
  },
  {
   "cell_type": "code",
   "execution_count": null,
   "metadata": {},
   "outputs": [],
   "source": [
    "unique_desc_mis = CVE_description_mistake['desc_mis'].astype(str).unique().tolist()\n",
    "unique_desc_mis = ['None' if desc_mis is None else desc_mis for desc_mis in unique_desc_mis]\n",
    "unique_desc_mis = ['None' if desc_mis is 'nan' else desc_mis for desc_mis in unique_desc_mis]\n",
    "sorted(unique_desc_mis)[:1]"
   ]
  },
  {
   "cell_type": "code",
   "execution_count": null,
   "metadata": {},
   "outputs": [],
   "source": [
    "#Create tuples of description_mistakes, matched description_mistakes, and the score\n",
    "score_sort = [(x,) + i\n",
    "             for x in unique_desc_mis \n",
    "             for i in process.extract(x, unique_desc_mis, scorer=fuzz.token_sort_ratio)]\n",
    "#Create a dataframe from the tuples\n",
    "similarity_sort_desc_mis = pd.DataFrame(score_sort, columns=['desc_mis_sort','match_sort','score_sort'])\n",
    "similarity_sort_desc_mis.head()"
   ]
  },
  {
   "cell_type": "code",
   "execution_count": null,
   "metadata": {},
   "outputs": [],
   "source": [
    "print(len(similarity_sort_desc_mis))"
   ]
  },
  {
   "cell_type": "code",
   "execution_count": null,
   "metadata": {},
   "outputs": [],
   "source": [
    "similarity_sort_desc_mis['sorted_desc_mis_sort'] = np.maximum(similarity_sort_desc_mis['desc_mis_sort'], similarity_sort_mistakes['match_sort'])\n",
    "similarity_sort_desc_mis.head()"
   ]
  },
  {
   "cell_type": "code",
   "execution_count": null,
   "metadata": {},
   "outputs": [],
   "source": [
    "high_score_sort = similarity_sort_desc_mis[(similarity_sort_desc_mis['score_sort'] >= 15) &\n",
    "                (similarity_sort_desc_mis['desc_mis_sort'] !=  similarity_sort_desc_mis['match_sort']) &\n",
    "                (similarity_sort_desc_mis['sorted_desc_mis_sort'] != similarity_sort_desc_mis['match_sort'])]\n",
    "high_score_sort = high_score_sort.drop('sorted_desc_mis_sort',axis=1).copy()"
   ]
  },
  {
   "cell_type": "code",
   "execution_count": null,
   "metadata": {},
   "outputs": [],
   "source": [
    "high_score_sort\n"
   ]
  },
  {
   "cell_type": "code",
   "execution_count": null,
   "metadata": {},
   "outputs": [],
   "source": [
    "high_score_sort.groupby(['desc_mis_sort','score_sort']).agg(\n",
    "                        {'match_sort': ', '.join}).sort_values(\n",
    "                        ['score_sort'], ascending=False)"
   ]
  },
  {
   "cell_type": "code",
   "execution_count": null,
   "metadata": {},
   "outputs": [],
   "source": []
  },
  {
   "cell_type": "code",
   "execution_count": null,
   "metadata": {},
   "outputs": [],
   "source": []
  }
 ],
 "metadata": {
  "kernelspec": {
   "display_name": "Python 3",
   "language": "python",
   "name": "python3"
  },
  "language_info": {
   "codemirror_mode": {
    "name": "ipython",
    "version": 3
   },
   "file_extension": ".py",
   "mimetype": "text/x-python",
   "name": "python",
   "nbconvert_exporter": "python",
   "pygments_lexer": "ipython3",
   "version": "3.8.5"
  }
 },
 "nbformat": 4,
 "nbformat_minor": 4
}
